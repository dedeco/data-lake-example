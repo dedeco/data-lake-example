{
 "cells": [
  {
   "cell_type": "markdown",
   "metadata": {
    "editable": true
   },
   "source": [
    "# Exploring data"
   ]
  },
  {
   "cell_type": "code",
   "execution_count": 9,
   "metadata": {
    "editable": true
   },
   "outputs": [],
   "source": [
    "from pyspark.sql import SparkSession\n",
    "import os\n",
    "import configparser\n",
    "import boto3"
   ]
  },
  {
   "cell_type": "markdown",
   "metadata": {
    "editable": true
   },
   "source": [
    "## Load credentials"
   ]
  },
  {
   "cell_type": "code",
   "execution_count": 10,
   "metadata": {
    "editable": true
   },
   "outputs": [],
   "source": [
    "config = configparser.ConfigParser()\n",
    "config.read_file(open('dl.cfg'))\n",
    "\n",
    "os.environ['AWS_ACCESS_KEY_ID'] = config.get(\"default\", \"AWS_ACCESS_KEY_ID\")\n",
    "os.environ['AWS_SECRET_ACCESS_KEY'] = config.get(\"default\", \"AWS_SECRET_ACCESS_KEY\")"
   ]
  },
  {
   "cell_type": "markdown",
   "metadata": {
    "editable": true
   },
   "source": [
    "## Create spark session with haddop-aws package"
   ]
  },
  {
   "cell_type": "code",
   "execution_count": 11,
   "metadata": {
    "editable": true
   },
   "outputs": [],
   "source": [
    "spark = SparkSession \\\n",
    "    .builder \\\n",
    "    .config(\"spark.jars.packages\", \"org.apache.hadoop:hadoop-aws:2.7.0\") \\\n",
    "    .getOrCreate()"
   ]
  },
  {
   "cell_type": "markdown",
   "metadata": {
    "editable": true
   },
   "source": [
    "## Song table"
   ]
  },
  {
   "cell_type": "code",
   "execution_count": 12,
   "metadata": {
    "editable": true
   },
   "outputs": [
    {
     "name": "stdout",
     "output_type": "stream",
     "text": [
      "+------------------+--------------------+---------+----+------------------+\n",
      "|           song_id|               title| duration|year|         artist_id|\n",
      "+------------------+--------------------+---------+----+------------------+\n",
      "|SOBTCUI12A8AE48B70|Faust: Ballet Mus...| 94.56281|   0|ARSUVLW12454A4C8B8|\n",
      "|SOVNKJI12A8C13CB0D|Take It To Da Hou...|227.10812|2001|ARWUNH81187FB4A3E0|\n",
      "|SOYVBGZ12A6D4F92A8|Piano Sonata No. ...|221.70077|   0|ARLRWBW1242077EB29|\n",
      "|SODBHKO12A58A77F36|Fingers Of Love (...|335.93424|   0|ARKGS2Z1187FB494B5|\n",
      "|SOGXFIF12A58A78CC4|Hanging On (Mediu...|204.06812|   0|AR5LZJD1187FB4C5E5|\n",
      "|SOZCRVP12A81C21F40|Welcome To The Do...| 46.94159|2008|AR4503S1187FB43199|\n",
      "|SOOBEML12A8C138C91|Johnny Leary's Po...|  197.642|   0|ARP4O0W1187FB5A06B|\n",
      "|SOUOPFM12AB0185809|You'd Be So Nice ...|405.41995|   0|ARSXDJO1269FCD9405|\n",
      "|SOVJXVJ12A8C13517D|Where The Thunder...|298.84036|   0|ARCCRTI11F4C845308|\n",
      "|SOKTJDS12AF72A25E5|Drown In My Own T...|  192.522|   0|ARA23XO1187B9AF18F|\n",
      "|SOHHANU12A58A77C66|The Czar: Usurper...|654.28853|2009|ARMQHX71187B9890D3|\n",
      "|SOHWKNM12A8C135A07|Word Is Alive_ Th...|290.55955|   0|ARM8Y3L1187FB537A7|\n",
      "|SOHQZIB12A6D4F9FAF|N****_ What's Up ...|196.85832|2006|ARWAFY51187FB5C4EF|\n",
      "|SONYPOM12A8C13B2D7|I Think My Wife I...|186.48771|2005|ARDNS031187B9924F0|\n",
      "|SOLGAPB12A8C13EA19|Flight Of The Boo...|258.06322|2002|ARUG14R1187FB3E2E8|\n",
      "|SOTCWTN12AB017EB37|The Rush (Long Ti...| 332.5122|2006|ARP9ZS01187B9AA28F|\n",
      "|SOQAUGD12A58A7A92D|The Gold (Dubmati...|289.01832|2008|ARV3PXE1187B98E680|\n",
      "|SOFKLRD12A58A7C947|Funny In My Mind ...|284.44689|2002|ARS927Z1187B9ACA29|\n",
      "|SOYQDUJ12A8C13F773|Shine On (Acousti...|173.63546|   0|ARWDPT81187B99C656|\n",
      "|SOEKAZG12AB018837E|I'll Slap Your Fa...|129.85424|2001|ARSVTNL1187B992A91|\n",
      "+------------------+--------------------+---------+----+------------------+\n",
      "only showing top 20 rows\n",
      "\n"
     ]
    }
   ],
   "source": [
    "song_table = spark.read.parquet(\"s3a://data-lake-udacity-sparkify/song/songs.parquet\")\n",
    "song_table.show()"
   ]
  },
  {
   "cell_type": "code",
   "execution_count": 13,
   "metadata": {
    "editable": true
   },
   "outputs": [],
   "source": [
    "song_table.createOrReplaceTempView(\"song_table\")"
   ]
  },
  {
   "cell_type": "code",
   "execution_count": 23,
   "metadata": {
    "editable": true
   },
   "outputs": [
    {
     "name": "stdout",
     "output_type": "stream",
     "text": [
      "+--------------------+--------+\n",
      "|               title|count(1)|\n",
      "+--------------------+--------+\n",
      "|Always And Never ...|       1|\n",
      "|Seem Like A Thug ...|       1|\n",
      "|                Hate|       1|\n",
      "|          Ludwig Van|       1|\n",
      "|Stop Coming To My...|       1|\n",
      "|       Rainbow Yoshi|       1|\n",
      "|       The Telescope|       1|\n",
      "|Talking With Myse...|       1|\n",
      "|My Eyes Burn (Alb...|       1|\n",
      "|You Are The Only ...|       1|\n",
      "+--------------------+--------+\n",
      "\n"
     ]
    }
   ],
   "source": [
    "spark.sql('''\n",
    "          SELECT title, count(*)\n",
    "          FROM song_table \n",
    "          GROUP BY title\n",
    "          ORDER BY count(*) desc\n",
    "          LIMIT 10\n",
    "          '''\n",
    "          ).show()"
   ]
  },
  {
   "cell_type": "markdown",
   "metadata": {
    "editable": true
   },
   "source": [
    "## Artist table"
   ]
  },
  {
   "cell_type": "code",
   "execution_count": 22,
   "metadata": {
    "editable": true
   },
   "outputs": [
    {
     "name": "stdout",
     "output_type": "stream",
     "text": [
      "+------------------+--------------------+--------------------+---------+----------+\n",
      "|         artist_id|                name|            location|lattitude| longitude|\n",
      "+------------------+--------------------+--------------------+---------+----------+\n",
      "|ARSUVLW12454A4C8B8|Royal Philharmoni...|           Tennessee| 35.83073| -85.97874|\n",
      "|ARXQC081187FB4AD42|William Shatner_ ...|                  UK| 54.31407|  -2.23001|\n",
      "|ARWUNH81187FB4A3E0|         Trick Daddy|     Miami , Florida|     null|      null|\n",
      "|ARTC1LV1187B9A4858|  The Bonzo Dog Band|Goldsmith's Colle...|  51.4536|  -0.01802|\n",
      "|ARA23XO1187B9AF18F|     The Smithereens|Carteret, New Jersey| 40.57885| -74.21956|\n",
      "|ARLRWBW1242077EB29|     Mikhail Pletnev|                    |     null|      null|\n",
      "|AR5LZJD1187FB4C5E5|        Britt Nicole|                  NC| 35.66693| -80.46935|\n",
      "|ARV3PXE1187B98E680|   John Brown's Body|     NY - Upstate NY| 40.71455| -74.00712|\n",
      "|AR6PJ8R1187FB5AD70|Shakira Featuring...|Barranquilla, Col...|     null|      null|\n",
      "|ARWDPT81187B99C656|           The Kooks|Brighton, United ...| 50.82821|  -0.13449|\n",
      "|ARMAC4T1187FB3FA4C|The Dillinger Esc...|   Morris Plains, NJ| 40.82624| -74.47995|\n",
      "|ARSVTNL1187B992A91|       Jonathan King|     London, England| 51.50632|  -0.12714|\n",
      "|ARKIQCZ1187B9A7C7C|             Bauhaus|Northampton, Nort...| 52.23974|  -0.88576|\n",
      "|ARZEWUR1187FB53DC8|           Enthroned|Belgica -- Namur,...| 50.45663|   4.87137|\n",
      "|ARZ5VKP1187FB3BB2F|       Sister Sledge|North Philadelphi...|  40.0084| -75.15294|\n",
      "|ARV2V751187FB4330F|Rah Digga (Featur...|          New Jersey| 40.14323| -74.72671|\n",
      "|ARKGS2Z1187FB494B5|       Crowded House|                    |     null|      null|\n",
      "|ARDNS031187B9924F0|          Tim Wilson|             Georgia| 32.67828| -83.22295|\n",
      "|ARS927Z1187B9ACA29|        Robert Plant| Birmingham, England|     null|      null|\n",
      "|ARUG14R1187FB3E2E8|                Ozma|          California| 37.27188|-119.27023|\n",
      "+------------------+--------------------+--------------------+---------+----------+\n",
      "only showing top 20 rows\n",
      "\n"
     ]
    }
   ],
   "source": [
    "artist_table = spark.read.parquet(\"s3a://data-lake-udacity-sparkify/artist/artists.parquet\")\n",
    "artist_table.show()"
   ]
  },
  {
   "cell_type": "code",
   "execution_count": 24,
   "metadata": {
    "editable": true
   },
   "outputs": [],
   "source": [
    "artist_table.createOrReplaceTempView(\"artist_table\")"
   ]
  },
  {
   "cell_type": "code",
   "execution_count": 25,
   "metadata": {
    "editable": true
   },
   "outputs": [
    {
     "name": "stdout",
     "output_type": "stream",
     "text": [
      "+---------------+--------+\n",
      "|           name|count(1)|\n",
      "+---------------+--------+\n",
      "|      Xcultures|       2|\n",
      "|Black Eyed Peas|       2|\n",
      "|       Karunesh|       2|\n",
      "| Polygon Window|       2|\n",
      "|     Aphex Twin|       2|\n",
      "|      The Kooks|       2|\n",
      "|       Mastodon|       2|\n",
      "|   Jamie Cullum|       2|\n",
      "|  Tracy Chapman|       2|\n",
      "|     Jag Panzer|       2|\n",
      "+---------------+--------+\n",
      "\n"
     ]
    }
   ],
   "source": [
    "spark.sql('''\n",
    "          SELECT name, count(*)\n",
    "          FROM artist_table \n",
    "          GROUP BY name\n",
    "          ORDER BY count(*) desc\n",
    "          LIMIT 10\n",
    "          '''\n",
    "          ).show()"
   ]
  },
  {
   "cell_type": "markdown",
   "metadata": {
    "editable": true
   },
   "source": [
    "## User table"
   ]
  },
  {
   "cell_type": "code",
   "execution_count": 28,
   "metadata": {
    "editable": true
   },
   "outputs": [
    {
     "name": "stdout",
     "output_type": "stream",
     "text": [
      "+------+----------+---------+------+-----+\n",
      "|userId| firstName| lastName|gender|level|\n",
      "+------+----------+---------+------+-----+\n",
      "|    88|  Mohammad|Rodriguez|     M| paid|\n",
      "|    88|  Mohammad|Rodriguez|     M| free|\n",
      "|    68|    Jordan|Rodriguez|     F| free|\n",
      "|    29|Jacqueline|    Lynch|     F| free|\n",
      "|    11| Christian|   Porter|     F| free|\n",
      "|    53|   Celeste| Williams|     F| free|\n",
      "|    69|  Anabelle|  Simpson|     F| free|\n",
      "|    75|    Joseph|Gutierrez|     M| free|\n",
      "|    40|    Tucker| Garrison|     M| free|\n",
      "|     2|   Jizelle| Benjamin|     F| free|\n",
      "|    14|  Theodore|   Harris|     M| free|\n",
      "|    52|  Theodore|    Smith|     M| free|\n",
      "|    56|    Cienna|  Freeman|     F| free|\n",
      "|    12|    Austin|  Rosales|     M| free|\n",
      "|    19|   Zachary|   Thomas|     M| free|\n",
      "|    23|    Morris|  Gilmore|     M| free|\n",
      "|    55|    Martin|  Johnson|     M| free|\n",
      "|    66|     Kevin| Arellano|     M| free|\n",
      "|    64|    Hannah|  Calhoun|     F| free|\n",
      "|   100|     Adler|  Barrera|     M| free|\n",
      "+------+----------+---------+------+-----+\n",
      "only showing top 20 rows\n",
      "\n"
     ]
    }
   ],
   "source": [
    "user_table = spark.read.parquet(\"s3a://data-lake-udacity-sparkify/user/user.parquet\")\n",
    "user_table.show()"
   ]
  },
  {
   "cell_type": "code",
   "execution_count": 29,
   "metadata": {
    "editable": true
   },
   "outputs": [],
   "source": [
    "user_table.createOrReplaceTempView(\"user_table\")"
   ]
  },
  {
   "cell_type": "code",
   "execution_count": 30,
   "metadata": {
    "editable": true
   },
   "outputs": [
    {
     "name": "stdout",
     "output_type": "stream",
     "text": [
      "+------+----------+---------+------+-----+\n",
      "|userId| firstName| lastName|gender|level|\n",
      "+------+----------+---------+------+-----+\n",
      "|    88|  Mohammad|Rodriguez|     M| paid|\n",
      "|    88|  Mohammad|Rodriguez|     M| free|\n",
      "|    68|    Jordan|Rodriguez|     F| free|\n",
      "|    29|Jacqueline|    Lynch|     F| free|\n",
      "|    11| Christian|   Porter|     F| free|\n",
      "|    53|   Celeste| Williams|     F| free|\n",
      "|    69|  Anabelle|  Simpson|     F| free|\n",
      "|    75|    Joseph|Gutierrez|     M| free|\n",
      "|    40|    Tucker| Garrison|     M| free|\n",
      "|     2|   Jizelle| Benjamin|     F| free|\n",
      "+------+----------+---------+------+-----+\n",
      "\n"
     ]
    }
   ],
   "source": [
    "spark.sql('''\n",
    "          SELECT *\n",
    "          FROM user_table \n",
    "          LIMIT 10\n",
    "          '''\n",
    "          ).show()"
   ]
  },
  {
   "cell_type": "markdown",
   "metadata": {
    "editable": true
   },
   "source": [
    "## Time Table"
   ]
  },
  {
   "cell_type": "code",
   "execution_count": 33,
   "metadata": {
    "editable": true
   },
   "outputs": [
    {
     "name": "stdout",
     "output_type": "stream",
     "text": [
      "+----+---+----+-------+----+-----+\n",
      "|hour|day|week|weekday|year|month|\n",
      "+----+---+----+-------+----+-----+\n",
      "|   0| 15|  46|      5|2018|   11|\n",
      "|   0| 15|  46|      5|2018|   11|\n",
      "|   0| 15|  46|      5|2018|   11|\n",
      "|   3| 15|  46|      5|2018|   11|\n",
      "|   5| 15|  46|      5|2018|   11|\n",
      "|   5| 15|  46|      5|2018|   11|\n",
      "|   5| 15|  46|      5|2018|   11|\n",
      "|   6| 15|  46|      5|2018|   11|\n",
      "|   6| 15|  46|      5|2018|   11|\n",
      "|   6| 15|  46|      5|2018|   11|\n",
      "|   6| 15|  46|      5|2018|   11|\n",
      "|   6| 15|  46|      5|2018|   11|\n",
      "|   6| 15|  46|      5|2018|   11|\n",
      "|   6| 15|  46|      5|2018|   11|\n",
      "|   6| 15|  46|      5|2018|   11|\n",
      "|   6| 15|  46|      5|2018|   11|\n",
      "|   6| 15|  46|      5|2018|   11|\n",
      "|   7| 15|  46|      5|2018|   11|\n",
      "|   7| 15|  46|      5|2018|   11|\n",
      "|   7| 15|  46|      5|2018|   11|\n",
      "+----+---+----+-------+----+-----+\n",
      "only showing top 20 rows\n",
      "\n"
     ]
    }
   ],
   "source": [
    "time_table = spark.read.parquet(\"s3a://data-lake-udacity-sparkify/time/time.parquet\")\n",
    "time_table.show()"
   ]
  },
  {
   "cell_type": "code",
   "execution_count": 34,
   "metadata": {
    "editable": true
   },
   "outputs": [],
   "source": [
    "time_table.createOrReplaceTempView(\"time_table\")"
   ]
  },
  {
   "cell_type": "code",
   "execution_count": 35,
   "metadata": {
    "editable": true
   },
   "outputs": [
    {
     "name": "stdout",
     "output_type": "stream",
     "text": [
      "+----+---+----+-------+----+-----+\n",
      "|hour|day|week|weekday|year|month|\n",
      "+----+---+----+-------+----+-----+\n",
      "|   0| 15|  46|      5|2018|   11|\n",
      "|   0| 15|  46|      5|2018|   11|\n",
      "|   0| 15|  46|      5|2018|   11|\n",
      "|   3| 15|  46|      5|2018|   11|\n",
      "|   5| 15|  46|      5|2018|   11|\n",
      "|   5| 15|  46|      5|2018|   11|\n",
      "|   5| 15|  46|      5|2018|   11|\n",
      "|   6| 15|  46|      5|2018|   11|\n",
      "|   6| 15|  46|      5|2018|   11|\n",
      "|   6| 15|  46|      5|2018|   11|\n",
      "+----+---+----+-------+----+-----+\n",
      "\n"
     ]
    }
   ],
   "source": [
    "spark.sql('''\n",
    "          SELECT *\n",
    "          FROM time_table \n",
    "          LIMIT 10\n",
    "          '''\n",
    "          ).show()"
   ]
  },
  {
   "cell_type": "markdown",
   "metadata": {
    "editable": true
   },
   "source": [
    "## Songplays Table"
   ]
  },
  {
   "cell_type": "code",
   "execution_count": null,
   "metadata": {
    "editable": true
   },
   "outputs": [],
   "source": [
    "songplays_table = spark.read.parquet(\"s3a://data-lake-udacity-sparkify/songplays/songplays.parquet\")\n",
    "songplays_table.show()"
   ]
  },
  {
   "cell_type": "code",
   "execution_count": null,
   "metadata": {
    "editable": true
   },
   "outputs": [],
   "source": [
    "songplays_table.createOrReplaceTempView(\"songplays_table\")"
   ]
  },
  {
   "cell_type": "code",
   "execution_count": null,
   "metadata": {
    "editable": true
   },
   "outputs": [],
   "source": [
    "spark.sql('''\n",
    "          SELECT *\n",
    "          FROM songplays_table \n",
    "          LIMIT 10\n",
    "          '''\n",
    "          ).show()"
   ]
  }
 ],
 "metadata": {
  "kernelspec": {
   "display_name": "Python 3",
   "language": "python",
   "name": "python3"
  },
  "language_info": {
   "codemirror_mode": {
    "name": "ipython",
    "version": 3
   },
   "file_extension": ".py",
   "mimetype": "text/x-python",
   "name": "python",
   "nbconvert_exporter": "python",
   "pygments_lexer": "ipython3",
   "version": "3.6.3"
  }
 },
 "nbformat": 4,
 "nbformat_minor": 4
}
